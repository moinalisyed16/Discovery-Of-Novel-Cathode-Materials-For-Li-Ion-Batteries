{
 "cells": [
  {
   "cell_type": "code",
   "execution_count": 1,
   "id": "a1fbb69f",
   "metadata": {},
   "outputs": [],
   "source": [
    "import numpy as np\n",
    "import pandas as pd\n",
    "import matplotlib.pyplot as plt\n",
    "import seaborn as sns\n",
    "from sklearn.preprocessing import MinMaxScaler\n",
    "from sklearn.ensemble import RandomForestRegressor"
   ]
  },
  {
   "cell_type": "code",
   "execution_count": 2,
   "id": "991b8692",
   "metadata": {},
   "outputs": [],
   "source": [
    "data = pd.read_csv('FinalDataset.csv')"
   ]
  },
  {
   "cell_type": "code",
   "execution_count": 3,
   "id": "2633c8f7",
   "metadata": {},
   "outputs": [],
   "source": [
    "data_std= data.drop('cathode material',axis=1)\n",
    "\n"
   ]
  },
  {
   "cell_type": "markdown",
   "id": "8ff3bd17",
   "metadata": {},
   "source": [
    "## Random Forest For Sp Discharge Cap"
   ]
  },
  {
   "cell_type": "code",
   "execution_count": 4,
   "id": "ad199bf0",
   "metadata": {},
   "outputs": [],
   "source": [
    "from sklearn.model_selection import train_test_split, cross_val_score\n",
    "\n",
    "y1= data_std['Specific Discharge Capacity at 25 Cycle(mAh g-1)']\n",
    "x= data_std.drop(['Specific Discharge Capacity at 25 Cycle(mAh g-1)','Estimated Theoretical Capacity','Capacity Retention after 50 Cycles'],axis=1)\n",
    "\n",
    "#Train Test Split326\n",
    "x_train_RF_y1,x_test_RF_y1,y_train_RF_y1,y_test_RF_y1= train_test_split(x,y1,test_size=0.2)"
   ]
  },
  {
   "cell_type": "code",
   "execution_count": 5,
   "id": "7fa1ea4d",
   "metadata": {},
   "outputs": [],
   "source": [
    "from sklearn.model_selection import GridSearchCV\n",
    "\n",
    "# Define the hyperparameter grid to search over\n",
    "param_grid = {\n",
    "    'n_estimators': [50, 100, 200], # Number of trees in the forest\n",
    "    'max_depth': [None, 10, 20], # Maximum depth of the tree\n",
    "    'min_samples_split': [2, 5, 10], # Minimum number of samples required to split an internal node\n",
    "    'min_samples_leaf': [1, 2, 4] # Minimum number of samples required to be at a leaf node\n",
    "}\n",
    "\n",
    "# Create a Random Forest regressor\n",
    "rf = RandomForestRegressor()\n",
    "\n",
    "# Create a GridSearchCV object with the Random Forest model and hyperparameter grid\n",
    "grid_search = GridSearchCV(estimator=rf, param_grid=param_grid, scoring='neg_mean_squared_error', cv=5)\n",
    "\n",
    "# Fit the GridSearchCV object to your training data\n",
    "grid_search.fit(x_train_RF_y1, y_train_RF_y1)\n",
    "\n",
    "# Get the best hyperparameters and the corresponding model\n",
    "best_params = grid_search.best_params_\n",
    "best_model = grid_search.best_estimator_\n"
   ]
  },
  {
   "cell_type": "code",
   "execution_count": 6,
   "id": "0f5fe3eb",
   "metadata": {},
   "outputs": [
    {
     "data": {
      "text/plain": [
       "RandomForestRegressor(max_depth=20, n_estimators=50, random_state=42)"
      ]
     },
     "execution_count": 6,
     "metadata": {},
     "output_type": "execute_result"
    }
   ],
   "source": [
    "#Random Forest Regressor\n",
    "\n",
    "random_forest_1 = RandomForestRegressor(n_estimators=best_params['n_estimators'],max_depth=best_params['max_depth'], min_samples_split=best_params['min_samples_split'], max_features='auto', random_state=42)\n",
    "random_forest_1.fit(x_train_RF_y1,y_train_RF_y1)\n",
    "\n"
   ]
  },
  {
   "cell_type": "markdown",
   "id": "f08ccb15",
   "metadata": {},
   "source": [
    "## SVM Regression For Estimated Theoretical Cap"
   ]
  },
  {
   "cell_type": "code",
   "execution_count": 7,
   "id": "3e2ccc65",
   "metadata": {},
   "outputs": [],
   "source": [
    "from sklearn.model_selection import train_test_split, cross_val_score\n",
    "\n",
    "y2= data_std['Estimated Theoretical Capacity']\n",
    "x= data_std.drop(['Specific Discharge Capacity at 25 Cycle(mAh g-1)','Estimated Theoretical Capacity','Capacity Retention after 50 Cycles'],axis=1)\n",
    "\n",
    "#Train Test Split326\n",
    "x_train_SVM_y2,x_test_SVM_y2,y_train_SVM_y2,y_test_SVM_y2= train_test_split(x,y2,test_size=0.2)"
   ]
  },
  {
   "cell_type": "code",
   "execution_count": 8,
   "id": "64c9f3d2",
   "metadata": {},
   "outputs": [],
   "source": [
    "from sklearn.svm import SVR\n",
    "from sklearn.model_selection import GridSearchCV\n",
    "\n",
    "# Define the SVM regressor and hyperparameters to tune\n",
    "svm = SVR()\n",
    "hyperparams = {\n",
    "    'kernel': ['linear', 'rbf'],\n",
    "    'C': [0.1, 1, 10],\n",
    "    'gamma': ['scale', 'auto'],\n",
    "    'epsilon': [0.01, 0.1, 1]\n",
    "}\n",
    "\n",
    "# Use GridSearchCV to find the best hyperparameters\n",
    "svm_grid = GridSearchCV(estimator=svm, param_grid=hyperparams, cv=5, scoring='neg_mean_squared_error')\n",
    "svm_grid.fit(x_train_SVM_y2, y_train_SVM_y2)\n",
    "\n",
    "best = svm_grid.best_params_"
   ]
  },
  {
   "cell_type": "code",
   "execution_count": 9,
   "id": "d13d47a1",
   "metadata": {},
   "outputs": [
    {
     "data": {
      "text/plain": [
       "SVR(C=10)"
      ]
     },
     "execution_count": 9,
     "metadata": {},
     "output_type": "execute_result"
    }
   ],
   "source": [
    "# Create the SVR object\n",
    "svr = SVR(kernel=best['kernel'], C=best['C'], epsilon=best['epsilon'])\n",
    "\n",
    "# Train the model\n",
    "svr.fit(x_train_SVM_y2, y_train_SVM_y2)\n"
   ]
  },
  {
   "cell_type": "markdown",
   "id": "eb64866c",
   "metadata": {},
   "source": [
    "# RF for capacity retention"
   ]
  },
  {
   "cell_type": "code",
   "execution_count": 10,
   "id": "a9e88652",
   "metadata": {},
   "outputs": [],
   "source": [
    "from sklearn.model_selection import train_test_split, cross_val_score\n",
    "\n",
    "y3= data_std['Capacity Retention after 50 Cycles']\n",
    "x= data_std.drop(['Specific Discharge Capacity at 25 Cycle(mAh g-1)','Estimated Theoretical Capacity','Capacity Retention after 50 Cycles'],axis=1)\n",
    "\n",
    "#Train Test Split326\n",
    "\n",
    "x_train_RF_y3,x_test_RF_y3,y_train_RF_y3,y_test_RF_y3= train_test_split(x,y3,test_size=0.2)"
   ]
  },
  {
   "cell_type": "code",
   "execution_count": 11,
   "id": "ed239ca6",
   "metadata": {},
   "outputs": [],
   "source": [
    "from sklearn.ensemble import RandomForestRegressor\n",
    "from sklearn.model_selection import GridSearchCV\n",
    "\n",
    "# Define the hyperparameter grid to search over\n",
    "param_grid = {\n",
    "    'n_estimators': [50, 100, 200], # Number of trees in the forest\n",
    "    'max_depth': [None, 10, 20], # Maximum depth of the tree\n",
    "    'min_samples_split': [2, 5, 10], # Minimum number of samples required to split an internal node\n",
    "    'min_samples_leaf': [1, 2, 4] # Minimum number of samples required to be at a leaf node\n",
    "}\n",
    "\n",
    "# Create a Random Forest regressor\n",
    "rf = RandomForestRegressor()\n",
    "\n",
    "# Create a GridSearchCV object with the Random Forest model and hyperparameter grid\n",
    "grid_search = GridSearchCV(estimator=rf, param_grid=param_grid, scoring='neg_mean_squared_error', cv=5)\n",
    "\n",
    "# Fit the GridSearchCV object to your training data\n",
    "grid_search.fit(x_train_RF_y3, y_train_RF_y3)\n",
    "\n",
    "# Get the best hyperparameters and the corresponding model\n",
    "best_params = grid_search.best_params_\n",
    "best_model = grid_search.best_estimator_\n"
   ]
  },
  {
   "cell_type": "code",
   "execution_count": 12,
   "id": "ca7215eb",
   "metadata": {},
   "outputs": [
    {
     "data": {
      "text/plain": [
       "RandomForestRegressor(min_samples_split=10, random_state=42)"
      ]
     },
     "execution_count": 12,
     "metadata": {},
     "output_type": "execute_result"
    }
   ],
   "source": [
    "#Random Forest Regressor\n",
    "\n",
    "random_forest_3 = RandomForestRegressor(n_estimators=best_params['n_estimators'],max_depth=best_params['max_depth'], min_samples_split=best_params['min_samples_split'], max_features='auto', random_state=42)\n",
    "random_forest_3.fit(x_train_RF_y3,y_train_RF_y3)\n",
    "\n"
   ]
  },
  {
   "cell_type": "code",
   "execution_count": 13,
   "id": "9d59c150",
   "metadata": {},
   "outputs": [],
   "source": [
    "import tkinter as tk\n",
    "from tkinter import ttk\n",
    "\n",
    "def calculate():\n",
    "    # Get input values from GUI widgets\n",
    "    val1 = float(var1_entry.get())\n",
    "    val2 = float(var2_entry.get())\n",
    "    val3 = float(var3_entry.get())\n",
    "    val4 = float(var4_entry.get())\n",
    "    val5 = float(var5_entry.get())\n",
    "    val6 = float(var6_entry.get())\n",
    "\n",
    "    var= list(zip([val1],[val2],[val3],[val4],[val5],[val6]))\n",
    "    columns= ['Average Atomic Radius', 'Average Electronegativity',\n",
    "       'Thermal Conductivity (W/m K)', 'Average Boiling Point',\n",
    "       'Fusion Heat (KJ/mol)','Average Density']\n",
    "    x_input= pd.DataFrame(var,columns=columns)\n",
    "    \n",
    "    # Perform calculations and update output labels\n",
    "    out1 = random_forest_1.predict(x_input)\n",
    "    out2 = svr.predict(x_input)\n",
    "    out3 = random_forest_3.predict(x_input)\n",
    "    \n",
    "    out1_label.config(text=\"Estimated Specific Discharge Capacity at 25 Cycle(mAh g-1): {:.2f}\".format(out1.item()))\n",
    "    out2_label.config(text=\"Estimated Theoretical Capacity: {:.2f}\".format(out2.item()))\n",
    "    out3_label.config(text=\"Capacity Retention after 50 Cycles: {:.2f}\".format(out3.item()))\n",
    "    \n",
    "# Create the main window and set its properties\n",
    "root = tk.Tk()\n",
    "root.title(\"Cathode Material Predictor For Li_ion Batteries\")\n",
    "root.geometry(\"1000x900\")\n",
    "\n",
    "# Create input variable labels and entry widgets\n",
    "var1_label = ttk.Label(root, text=\"Enter The Value Of Average Atomic Radius\")\n",
    "var1_label.pack()\n",
    "var1_entry = ttk.Entry(root)\n",
    "var1_entry.pack()\n",
    "\n",
    "var2_label = ttk.Label(root, text=\"Enter The Value Of Average Electronegativity\")\n",
    "var2_label.pack()\n",
    "var2_entry = ttk.Entry(root)\n",
    "var2_entry.pack()\n",
    "\n",
    "var3_label = ttk.Label(root, text=\"Enter The Value Of Thermal Conductivity (W/m K)\")\n",
    "var3_label.pack()\n",
    "var3_entry = ttk.Entry(root)\n",
    "var3_entry.pack()\n",
    "\n",
    "var4_label = ttk.Label(root, text=\"Enter The Value Of Average Boiling Point\")\n",
    "var4_label.pack()\n",
    "var4_entry = ttk.Entry(root)\n",
    "var4_entry.pack()\n",
    "\n",
    "var5_label = ttk.Label(root, text=\"Enter The Value Of Fusion Heat (KJ/mol)\")\n",
    "var5_label.pack()\n",
    "var5_entry = ttk.Entry(root)\n",
    "var5_entry.pack()\n",
    "\n",
    "var6_label = ttk.Label(root, text=\"Enter The Value Of Average Density\")\n",
    "var6_label.pack()\n",
    "var6_entry = ttk.Entry(root)\n",
    "var6_entry.pack()\n",
    "\n",
    "# Create button to calculate outputs\n",
    "calc_button = ttk.Button(root, text=\"Calculate\", command=calculate)\n",
    "calc_button.pack()\n",
    "\n",
    "# Create output value labels\n",
    "out1_label = ttk.Label(root, text=\"Estimated Specific Discharge Capacity at 25 Cycle(mAh g-1): \")\n",
    "out1_label.pack()\n",
    "\n",
    "out2_label = ttk.Label(root, text=\"Estimated Theoretical Capacity: \")\n",
    "out2_label.pack()\n",
    "\n",
    "out3_label = ttk.Label(root, text=\"Capacity Retention after 50 Cycles: \")\n",
    "out3_label.pack()\n",
    "\n",
    "# Run the GUI loop\n",
    "root.mainloop()\n"
   ]
  },
  {
   "cell_type": "code",
   "execution_count": null,
   "id": "d2a35bfa",
   "metadata": {},
   "outputs": [],
   "source": []
  }
 ],
 "metadata": {
  "kernelspec": {
   "display_name": "Python 3 (ipykernel)",
   "language": "python",
   "name": "python3"
  },
  "language_info": {
   "codemirror_mode": {
    "name": "ipython",
    "version": 3
   },
   "file_extension": ".py",
   "mimetype": "text/x-python",
   "name": "python",
   "nbconvert_exporter": "python",
   "pygments_lexer": "ipython3",
   "version": "3.9.12"
  }
 },
 "nbformat": 4,
 "nbformat_minor": 5
}
